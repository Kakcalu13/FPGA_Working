{
 "cells": [
  {
   "cell_type": "code",
   "execution_count": 113,
   "metadata": {
    "collapsed": true
   },
   "outputs": [],
   "source": [
    "import numpy as np\n",
    "import cv2\n",
    "import matplotlib.pyplot as plt\n",
    "from scipy.optimize import curve_fit\n",
    "import struct\n",
    "import time\n",
    "import ok\n",
    "import os\n",
    "import csv\n",
    "import random as rn\n",
    "from scipy.sparse import csc_matrix\n",
    "import more_itertools as mit\n"
   ]
  },
  {
   "cell_type": "code",
   "execution_count": 114,
   "outputs": [
    {
     "name": "stdout",
     "output_type": "stream",
     "text": [
      "0\n"
     ]
    }
   ],
   "source": [
    "dev = ok.okCFrontPanel()\n",
    "dev.OpenBySerial(\"\")\n",
    "error = dev.ConfigureFPGA(r\"C:\\Users\\ereij\\OneDrive\\Documents\\PITT\\FPGA\\qDVS\\CPG_OK.bit\")\n",
    "print(error)"
   ],
   "metadata": {
    "collapsed": false
   }
  },
  {
   "cell_type": "code",
   "execution_count": 115,
   "outputs": [
    {
     "name": "stdout",
     "output_type": "stream",
     "text": [
      "16777216 0.08388608\n"
     ]
    },
    {
     "data": {
      "text/plain": "0"
     },
     "execution_count": 115,
     "metadata": {},
     "output_type": "execute_result"
    }
   ],
   "source": [
    "# set timing\n",
    "count = 0x01000000\n",
    "clk_f = 200E6\n",
    "tc = int(count)/clk_f\n",
    "print(int(count), tc)\n",
    "\n",
    "\n",
    "# Reset chip\n",
    "dev.SetWireInValue(0x01, count)    # sets count\n",
    "dev.SetWireInValue(0x00, 0b0010)        # pull both resets and spike in down\n",
    "dev.UpdateWireIns()\n",
    "\n",
    "time.sleep(tc)\n",
    "dev.SetWireInValue(0x00, 0b1000)        # pull clk_rst_n high\n",
    "\n",
    "time.sleep(tc*10)\n",
    "dev.SetWireInValue(0x00, 0b1101)        # pull rst_n high and start high\n",
    "dev.UpdateWireIns()\n",
    "\n",
    "time.sleep(tc*1.6)\n",
    "dev.SetWireInValue(0x00, 0b1100)        # pull start low\n",
    "dev.UpdateWireIns()"
   ],
   "metadata": {
    "collapsed": false
   }
  },
  {
   "cell_type": "code",
   "execution_count": 105,
   "outputs": [],
   "source": [
    "def bitfield(n, length = 16):\n",
    "    bf = [int(digit) for digit in bin(n)[2:]]\n",
    "    for i in range(length - len(bf)):\n",
    "        bf = [0] + bf\n",
    "    return bf"
   ],
   "metadata": {
    "collapsed": false
   }
  },
  {
   "cell_type": "code",
   "execution_count": 116,
   "outputs": [
    {
     "name": "stdout",
     "output_type": "stream",
     "text": [
      "[0, 1, 0, 0, 0, 0, 0, 1, 0, 1, 0, 0, 0, 0, 0, 1] 16 0.0\n",
      "[0, 0, 1, 0, 1, 0, 0, 0, 0, 0, 1, 0, 1, 0, 0, 0] 16 0.03167843818664551\n",
      "[0, 0, 0, 1, 0, 1, 0, 0, 0, 0, 0, 1, 0, 1, 0, 0] 16 0.07890939712524414\n",
      "[1, 0, 0, 0, 0, 0, 1, 0, 1, 0, 0, 0, 0, 0, 1, 0] 16 0.09488248825073242\n",
      "[0, 1, 0, 0, 0, 0, 0, 1, 0, 1, 0, 0, 0, 0, 0, 1] 16 0.08312296867370605\n",
      "[0, 0, 1, 0, 1, 0, 0, 0, 0, 0, 1, 0, 1, 0, 0, 0] 16 0.08498811721801758\n",
      "[0, 0, 0, 1, 0, 1, 0, 0, 0, 0, 0, 1, 0, 1, 0, 0] 16 0.08049798011779785\n",
      "[1, 0, 0, 0, 0, 0, 1, 0, 1, 0, 0, 0, 0, 0, 1, 0] 16 0.07473349571228027\n",
      "[0, 1, 0, 0, 0, 0, 0, 1, 0, 1, 0, 0, 0, 0, 0, 1] 16 0.09700393676757812\n",
      "[0, 0, 1, 0, 1, 0, 0, 0, 0, 0, 1, 0, 1, 0, 0, 0] 16 0.08161425590515137\n",
      "[0, 0, 0, 1, 0, 1, 0, 0, 0, 0, 0, 1, 0, 1, 0, 0] 16 0.08614516258239746\n",
      "[1, 0, 0, 0, 0, 0, 1, 0, 1, 0, 0, 0, 0, 0, 1, 0] 16 0.07900810241699219\n",
      "[0, 1, 0, 0, 0, 0, 0, 1, 0, 1, 0, 0, 0, 0, 0, 1] 16 0.07948732376098633\n",
      "[0, 0, 1, 0, 1, 0, 0, 0, 0, 0, 1, 0, 1, 0, 0, 0] 16 0.09383201599121094\n",
      "[0, 0, 0, 1, 0, 1, 0, 0, 0, 0, 0, 1, 0, 1, 0, 0] 16 0.08279800415039062\n",
      "[1, 0, 0, 0, 0, 0, 1, 0, 1, 0, 0, 0, 0, 0, 1, 0] 16 0.08419084548950195\n"
     ]
    }
   ],
   "source": [
    "old_data = 0\n",
    "t_0 = time.time()\n",
    "steps = []\n",
    "while len(steps) < 16:\n",
    "    data = dev.UpdateWireOuts()\n",
    "    data = dev.GetWireOutValue(0x20)\n",
    "    if data != old_data:\n",
    "        print(bitfield(data), len(bitfield(data)), time.time()-t_0)\n",
    "        t_0 = time.time()\n",
    "        steps.append(bitfield(data))\n",
    "    old_data = data\n"
   ],
   "metadata": {
    "collapsed": false
   }
  },
  {
   "cell_type": "code",
   "execution_count": 117,
   "outputs": [
    {
     "name": "stdout",
     "output_type": "stream",
     "text": [
      "[0, 1, 0, 0, 0, 0, 0, 1, 0, 1, 0, 0, 0, 0, 0, 1]\n",
      "[0, 0, 1, 0, 1, 0, 0, 0, 0, 0, 1, 0, 1, 0, 0, 0]\n",
      "[0, 0, 0, 1, 0, 1, 0, 0, 0, 0, 0, 1, 0, 1, 0, 0]\n",
      "[1, 0, 0, 0, 0, 0, 1, 0, 1, 0, 0, 0, 0, 0, 1, 0]\n",
      "[0, 1, 0, 0, 0, 0, 0, 1, 0, 1, 0, 0, 0, 0, 0, 1]\n",
      "[0, 0, 1, 0, 1, 0, 0, 0, 0, 0, 1, 0, 1, 0, 0, 0]\n",
      "[0, 0, 0, 1, 0, 1, 0, 0, 0, 0, 0, 1, 0, 1, 0, 0]\n",
      "[1, 0, 0, 0, 0, 0, 1, 0, 1, 0, 0, 0, 0, 0, 1, 0]\n",
      "[0, 1, 0, 0, 0, 0, 0, 1, 0, 1, 0, 0, 0, 0, 0, 1]\n",
      "[0, 0, 1, 0, 1, 0, 0, 0, 0, 0, 1, 0, 1, 0, 0, 0]\n",
      "[0, 0, 0, 1, 0, 1, 0, 0, 0, 0, 0, 1, 0, 1, 0, 0]\n",
      "[1, 0, 0, 0, 0, 0, 1, 0, 1, 0, 0, 0, 0, 0, 1, 0]\n",
      "[0, 1, 0, 0, 0, 0, 0, 1, 0, 1, 0, 0, 0, 0, 0, 1]\n",
      "[0, 0, 1, 0, 1, 0, 0, 0, 0, 0, 1, 0, 1, 0, 0, 0]\n",
      "[0, 0, 0, 1, 0, 1, 0, 0, 0, 0, 0, 1, 0, 1, 0, 0]\n",
      "[1, 0, 0, 0, 0, 0, 1, 0, 1, 0, 0, 0, 0, 0, 1, 0]\n"
     ]
    }
   ],
   "source": [
    "for point in steps:\n",
    "    print(point)"
   ],
   "metadata": {
    "collapsed": false
   }
  },
  {
   "cell_type": "code",
   "execution_count": 112,
   "outputs": [
    {
     "name": "stdout",
     "output_type": "stream",
     "text": [
      "COM3\n"
     ]
    }
   ],
   "source": [
    "from serial.tools import list_ports\n",
    "port = list(list_ports.comports())\n",
    "for p in port:\n",
    "    print(p.device)"
   ],
   "metadata": {
    "collapsed": false
   }
  },
  {
   "cell_type": "code",
   "execution_count": null,
   "outputs": [],
   "source": [
    "import traceback\n",
    "import numpy as np\n",
    "from feagi_connector import actuators\n",
    "import ok\n",
    "\n",
    "servo_status = []\n",
    "gyro = {}\n",
    "\n",
    "dev = ok.okCFrontPanel()\n",
    "dev.OpenBySerial(\"\")  # selects default value\n",
    "error = dev.ConfigureFPGA(\n",
    "    r\"C:\\Users\\ereij\\OneDrive\\Documents\\PITT\\FPGA\\qDVS\\CPG_OK_ms.bit\")  # change file address as needed\n",
    "\n",
    "def simulation_from_fpga():\n",
    "    return [np.random.choice([0, 1]) for _ in range(16)]\n",
    "\n",
    "# Function to handle receiving data\n",
    "def read_from_port(ser=''):\n",
    "    global received_data, gyro\n",
    "    full_data = ''\n",
    "\n",
    "    print(\"error: \", error)\n",
    "\n",
    "    # Reset chip\n",
    "    dev.SetWireInValue(0x00, 0b1100)\n",
    "    dev.UpdateWireIns()\n",
    "\n",
    "    # Set both rst_n low (active low reset)\n",
    "    dev.SetWireInValue(0x00, 0b0000)\n",
    "    dev.UpdateWireIns()\n",
    "\n",
    "    # Set clock_rst_n high\n",
    "    dev.SetWireInValue(0x00, 0b1000)\n",
    "    dev.UpdateWireIns()\n",
    "\n",
    "    # Set start signal high\n",
    "    dev.SetWireInValue(0x00, 0b1101)\n",
    "    dev.UpdateWireIns()\n",
    "    old_data = 0\n",
    "    while True:\n",
    "        # total_time = (datetime.now() - start_time).total_seconds()\n",
    "        # if total_time > 1:\n",
    "        #     start_time = datetime.now()\n",
    "        #     print(\"data recieved: \", counter, \" after 1 second\", total_time)\n",
    "        #     counter = 0\n",
    "        data = dev.UpdateWireOuts()\n",
    "        data = bitfield(dev.GetWireOutValue(0x20))\n",
    "        if data != old_data:\n",
    "            print(data)\n",
    "        old_data = data\n",
    "        reading = data\n",
    "        # reading = ser.readline().decode('utf-8').rstrip()\n",
    "        received_data = reading\n",
    "        try:\n",
    "            # if '#' in received_data:\n",
    "            #     cleaned_data = received_data.replace('#', '')\n",
    "            #     new_data = full_data + cleaned_data\n",
    "            #     new_data = new_data.split(\",\")\n",
    "            #     processed_data = []\n",
    "            #     for i in new_data:\n",
    "            #         full_number = str()\n",
    "            #         for x in i:\n",
    "            #             if x in [\".\", \"-\"] or x.isdigit():\n",
    "            #                 full_number += x\n",
    "            #         if full_number:\n",
    "            #             processed_data.append(float(full_number))\n",
    "            #     # Add gyro data into feagi data\n",
    "            #     gyro['gyro'] = {'0': processed_data[0], '1': processed_data[1],\n",
    "            #                     '2': processed_data[2]}\n",
    "            # else:\n",
    "            full_data = received_data # just an array\n",
    "            action(full_data)\n",
    "        except Exception as Error_case:\n",
    "            pass\n",
    "            print(Error_case)\n",
    "            traceback.print_exc()\n",
    "        # counter += 1\n",
    "\n",
    "def feagi_to_petoi_id(device_id):\n",
    "    mapping = {\n",
    "        0: 0,\n",
    "        1: 8,\n",
    "        2: 12,\n",
    "        3: 9,\n",
    "        4: 13,\n",
    "        5: 11,\n",
    "        6: 15,\n",
    "        7: 10,\n",
    "        8: 14\n",
    "    }\n",
    "    return mapping.get(device_id, None)\n",
    "\n",
    "def bitfield(n, length = 16):\n",
    "    bf = [int(digit) for digit in bin(n)[2:]]\n",
    "    for i in range(length - len(bf)):\n",
    "        bf = [0] + bf\n",
    "    return bf\n",
    "\n",
    "def action(obtained_data):\n",
    "    # fpga here section:\n",
    "    servo_for_feagi = 'i '\n",
    "    print(\"full raw data: \", obtained_data)\n",
    "    for servo_id in range(0, len(obtained_data), 2):\n",
    "        mapped_id = feagi_to_petoi_id(servo_id // 2)\n",
    "        value1, value2 = obtained_data[servo_id], obtained_data[servo_id + 1]\n",
    "        if value1 == 1:\n",
    "            servo_status[servo_id // 2] += 1\n",
    "        if value2 == 1:\n",
    "            servo_status[servo_id // 2] -= 1\n",
    "        servo_status[servo_id // 2] = actuators.servo_keep_boundaries(servo_status[servo_id // 2], 90, -90) # block from exceeded 90\n",
    "        # Append the mapped ID and the adjusted status to the result string\n",
    "        servo_for_feagi += str(mapped_id) + \" \" + str(servo_status[servo_id // 2]) + \" \"\n",
    "    print(\"final: \", servo_for_feagi)\n",
    "    ser.write(servo_for_feagi.encode())\n",
    "\n",
    "    # fpga ends here:\n",
    "    # servo_data = actuators.get_servo_data(obtained_data, True)\n",
    "    # if 'servo_position' in obtained_data:\n",
    "    #     servo_for_feagi = 'i '\n",
    "    #     if obtained_data['servo_position'] is not {}:\n",
    "    #         for data_point in obtained_data['servo_position']:\n",
    "    #             device_id = feagi_to_petoi_id(data_point)\n",
    "    #             encoder_position = (((180) / 20) * obtained_data['servo_position'][data_point]) - 90\n",
    "    #             servo_for_feagi += str(device_id) + \" \" + str(encoder_position) + \" \"\n",
    "    #         print(servo_for_feagi)\n",
    "    #         ser.write(servo_for_feagi.encode())\n",
    "    # if servo_data:\n",
    "    #     servo_for_feagi = 'i '\n",
    "    #     for device_id in servo_data:\n",
    "    #         servo_power = actuators.servo_generate_power(90, servo_data[device_id], device_id)\n",
    "    #         if device_id not in servo_status:\n",
    "    #             servo_status[device_id] = actuators.servo_keep_boundaries(servo_power)\n",
    "    #             # pin_board[device_id].write(servo_status[device_id])\n",
    "    #         else:\n",
    "    #             servo_status[device_id] += servo_power / 10\n",
    "    #             servo_status[device_id] = actuators.servo_keep_boundaries(servo_status[device_id])\n",
    "    #             # pin_board[device_id].write(servo_status[device_id])\n",
    "    #             token = feagi_to_petoi_id(device_id)\n",
    "    #             task = servo_status[device_id] - 90  # white space\n",
    "    #             servo_for_feagi += str(token) + \" \" + str(task) + \" \"\n",
    "    #     print(servo_for_feagi)\n",
    "    #     ser.write(servo_for_feagi.encode())\n",
    "\n",
    "\n",
    "\n",
    "if __name__ == \"__main__\":\n",
    "    # ser = serial.Serial('/dev/ttyACM0', 115200)\n",
    "    # thread_read = threading.Thread(target=read_from_port, args=(ser,))\n",
    "    # thread_write = threading.Thread(target=write_to_port, args=(ser,))\n",
    "\n",
    "    # thread_read.start()\n",
    "    # thread_write.start()\n",
    "\n",
    "    # thread_read.join()\n",
    "    # thread_write.join()\n",
    "    # print(\"Ready...\")\n",
    "    # config = FEAGI.build_up_from_configuration()\n",
    "    # feagi_settings = config['feagi_settings'].copy()\n",
    "    # agent_settings = config['agent_settings'].copy()\n",
    "    # default_capabilities = config['default_capabilities'].copy()\n",
    "    # message_to_feagi = config['message_to_feagi'].copy()\n",
    "    # capabilities = config['capabilities'].copy()\n",
    "\n",
    "    # # # # FEAGI registration # # # - - - - - - - - - - - - - - - - - - - - - - - - - - - - - - -\n",
    "    # # - - - - - - - - - - - - - - - - - - #\n",
    "    # feagi_settings, runtime_data, api_address, feagi_ipu_channel, feagi_opu_channel = \\\n",
    "    #     FEAGI.connect_to_feagi(feagi_settings, runtime_data, agent_settings, capabilities,\n",
    "    #                            __version__)\n",
    "    # # - - - - - - - - - - - - - - - - - - - - - - - - - - - - - - - - - - - - - - - - - - - - - -\n",
    "\n",
    "    # To give ardiuno some time to open port. It's required\n",
    "    ser = serial.Serial('NAME', 115200)\n",
    "    time.sleep(5)\n",
    "    print(\"Starting now!\")\n",
    "    for x in range(8):\n",
    "        servo_status.append(90)\n",
    "    read_from_port(ser)\n",
    "    # while True:\n",
    "    #     print(simulation_from_fpga())\n",
    "    #     sleep((0.1))\n",
    "        # message_from_feagi = pns.message_from_feagi\n",
    "        #\n",
    "        # # Fetch data such as motor, servo, etc and pass to a function (you make ur own action.\n",
    "        # if message_from_feagi is not None:\n",
    "        #     pns.check_genome_status_no_vision(message_from_feagi)\n",
    "        #     feagi_settings['feagi_burst_speed'] = pns.check_refresh_rate(message_from_feagi, feagi_settings['feagi_burst_speed'])\n",
    "        #     obtained_signals = pns.obtain_opu_data(message_from_feagi)\n",
    "        #     # action(obtained_signals)\n",
    "        # # if gyro:\n",
    "        # #     message_to_feagi = sensors.add_gyro_to_feagi_data(gyro['gyro'], message_to_feagi)\n",
    "        # sleep(feagi_settings['feagi_burst_speed'])  # bottleneck\n",
    "        # pns.signals_to_feagi(message_to_feagi, feagi_ipu_channel, agent_settings, feagi_settings)\n",
    "        # message_to_feagi.clear()\n"
   ],
   "metadata": {
    "collapsed": false,
    "pycharm": {
     "is_executing": true
    }
   }
  },
  {
   "cell_type": "code",
   "execution_count": null,
   "outputs": [],
   "source": [],
   "metadata": {
    "collapsed": false
   }
  }
 ],
 "metadata": {
  "kernelspec": {
   "display_name": "Python 3",
   "language": "python",
   "name": "python3"
  },
  "language_info": {
   "codemirror_mode": {
    "name": "ipython",
    "version": 2
   },
   "file_extension": ".py",
   "mimetype": "text/x-python",
   "name": "python",
   "nbconvert_exporter": "python",
   "pygments_lexer": "ipython2",
   "version": "2.7.6"
  }
 },
 "nbformat": 4,
 "nbformat_minor": 0
}
