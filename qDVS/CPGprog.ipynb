{
 "cells": [
  {
   "cell_type": "code",
   "execution_count": 128,
   "metadata": {
    "collapsed": true
   },
   "outputs": [],
   "source": [
    "import numpy as np\n",
    "import cv2\n",
    "import matplotlib.pyplot as plt\n",
    "from scipy.optimize import curve_fit\n",
    "import struct\n",
    "import time\n",
    "import ok\n",
    "import os\n",
    "import csv\n",
    "import random as rn\n",
    "from scipy.sparse import csc_matrix\n",
    "import more_itertools as mit"
   ]
  },
  {
   "cell_type": "code",
   "execution_count": 129,
   "outputs": [
    {
     "name": "stdout",
     "output_type": "stream",
     "text": [
      "0\n"
     ]
    }
   ],
   "source": [
    "dev = ok.okCFrontPanel()\n",
    "dev.OpenBySerial(\"\")\n",
    "error = dev.ConfigureFPGA(r\"C:\\Users\\ereij\\OneDrive\\Documents\\PITT\\FPGA\\qDVS\\CPG_OK_ms.bit\")\n",
    "print(error)"
   ],
   "metadata": {
    "collapsed": false
   }
  },
  {
   "cell_type": "code",
   "execution_count": 142,
   "outputs": [
    {
     "name": "stdout",
     "output_type": "stream",
     "text": [
      "\n"
     ]
    }
   ],
   "source": [
    "print(dev.GetDeviceListSerial(1))"
   ],
   "metadata": {
    "collapsed": false
   }
  },
  {
   "cell_type": "code",
   "execution_count": 130,
   "outputs": [
    {
     "data": {
      "text/plain": "0"
     },
     "execution_count": 130,
     "metadata": {},
     "output_type": "execute_result"
    }
   ],
   "source": [
    "# Reset chip\n",
    "dev.SetWireInValue(0x00, 0b1100)\n",
    "dev.UpdateWireIns()\n",
    "\n",
    "dev.SetWireInValue(0x00, 0b0000)\n",
    "dev.UpdateWireIns()\n",
    "\n",
    "dev.SetWireInValue(0x00, 0b1000)\n",
    "dev.UpdateWireIns()"
   ],
   "metadata": {
    "collapsed": false
   }
  },
  {
   "cell_type": "code",
   "execution_count": 157,
   "outputs": [
    {
     "data": {
      "text/plain": "0"
     },
     "execution_count": 157,
     "metadata": {},
     "output_type": "execute_result"
    }
   ],
   "source": [
    "dev.SetWireInValue(0x00, 0b1101)\n",
    "dev.UpdateWireIns()"
   ],
   "metadata": {
    "collapsed": false
   }
  },
  {
   "cell_type": "code",
   "execution_count": 155,
   "outputs": [
    {
     "data": {
      "text/plain": "0"
     },
     "execution_count": 155,
     "metadata": {},
     "output_type": "execute_result"
    }
   ],
   "source": [
    "dev.SetWireInValue(0x00, 0b1100)\n",
    "dev.UpdateWireIns()"
   ],
   "metadata": {
    "collapsed": false
   }
  },
  {
   "cell_type": "code",
   "execution_count": 160,
   "outputs": [
    {
     "name": "stdout",
     "output_type": "stream",
     "text": [
      "0b100000001000\n",
      "0b10000000100\n"
     ]
    },
    {
     "ename": "KeyboardInterrupt",
     "evalue": "",
     "output_type": "error",
     "traceback": [
      "\u001B[1;31m---------------------------------------------------------------------------\u001B[0m",
      "\u001B[1;31mKeyboardInterrupt\u001B[0m                         Traceback (most recent call last)",
      "Cell \u001B[1;32mIn[160], line 4\u001B[0m\n\u001B[0;32m      2\u001B[0m \u001B[38;5;28;01mwhile\u001B[39;00m \u001B[38;5;28;01mTrue\u001B[39;00m:\n\u001B[0;32m      3\u001B[0m     data \u001B[38;5;241m=\u001B[39m dev\u001B[38;5;241m.\u001B[39mUpdateWireOuts()\n\u001B[1;32m----> 4\u001B[0m     data \u001B[38;5;241m=\u001B[39m \u001B[43mdev\u001B[49m\u001B[38;5;241;43m.\u001B[39;49m\u001B[43mGetWireOutValue\u001B[49m\u001B[43m(\u001B[49m\u001B[38;5;241;43m0x20\u001B[39;49m\u001B[43m)\u001B[49m\n\u001B[0;32m      5\u001B[0m     \u001B[38;5;28;01mif\u001B[39;00m data \u001B[38;5;241m!=\u001B[39m old_data:\n\u001B[0;32m      6\u001B[0m         \u001B[38;5;28mprint\u001B[39m(\u001B[38;5;28mbin\u001B[39m(data))\n",
      "File \u001B[1;32m~\\OneDrive\\Documents\\PITT\\FPGA\\qDVS\\ok.py:1256\u001B[0m, in \u001B[0;36mokCFrontPanel.GetWireOutValue\u001B[1;34m(self, epAddr)\u001B[0m\n\u001B[0;32m   1253\u001B[0m \u001B[38;5;28;01mdef\u001B[39;00m \u001B[38;5;21mUpdateWireOuts\u001B[39m(\u001B[38;5;28mself\u001B[39m) \u001B[38;5;241m-\u001B[39m\u001B[38;5;241m>\u001B[39m \u001B[38;5;124m\"\u001B[39m\u001B[38;5;124mOpalKellyLegacy::okCFrontPanel::ErrorCode\u001B[39m\u001B[38;5;124m\"\u001B[39m:\n\u001B[0;32m   1254\u001B[0m     \u001B[38;5;28;01mreturn\u001B[39;00m _ok\u001B[38;5;241m.\u001B[39mokCFrontPanel_UpdateWireOuts(\u001B[38;5;28mself\u001B[39m)\n\u001B[1;32m-> 1256\u001B[0m \u001B[38;5;28;01mdef\u001B[39;00m \u001B[38;5;21mGetWireOutValue\u001B[39m(\u001B[38;5;28mself\u001B[39m, epAddr: \u001B[38;5;124m'\u001B[39m\u001B[38;5;124mint\u001B[39m\u001B[38;5;124m'\u001B[39m) \u001B[38;5;241m-\u001B[39m\u001B[38;5;241m>\u001B[39m \u001B[38;5;124m\"\u001B[39m\u001B[38;5;124munsigned long\u001B[39m\u001B[38;5;124m\"\u001B[39m:\n\u001B[0;32m   1257\u001B[0m     \u001B[38;5;28;01mreturn\u001B[39;00m _ok\u001B[38;5;241m.\u001B[39mokCFrontPanel_GetWireOutValue(\u001B[38;5;28mself\u001B[39m, epAddr)\n\u001B[0;32m   1259\u001B[0m \u001B[38;5;28;01mdef\u001B[39;00m \u001B[38;5;21mActivateTriggerIn\u001B[39m(\u001B[38;5;28mself\u001B[39m, epAddr: \u001B[38;5;124m'\u001B[39m\u001B[38;5;124mint\u001B[39m\u001B[38;5;124m'\u001B[39m, bit: \u001B[38;5;124m'\u001B[39m\u001B[38;5;124mint\u001B[39m\u001B[38;5;124m'\u001B[39m) \u001B[38;5;241m-\u001B[39m\u001B[38;5;241m>\u001B[39m \u001B[38;5;124m\"\u001B[39m\u001B[38;5;124mOpalKellyLegacy::okCFrontPanel::ErrorCode\u001B[39m\u001B[38;5;124m\"\u001B[39m:\n",
      "\u001B[1;31mKeyboardInterrupt\u001B[0m: "
     ]
    }
   ],
   "source": [
    "old_data = 0\n",
    "while True:\n",
    "    data = dev.UpdateWireOuts()\n",
    "    data = dev.GetWireOutValue(0x20)\n",
    "    if data != old_data:\n",
    "        print(bin(data))\n",
    "    old_data = data"
   ],
   "metadata": {
    "collapsed": false
   }
  },
  {
   "cell_type": "code",
   "execution_count": 146,
   "outputs": [],
   "source": [
    "from serial.tools import list_ports\n",
    "port = list(list_ports.comports())\n",
    "for p in port:\n",
    "    print(p.device)"
   ],
   "metadata": {
    "collapsed": false
   }
  },
  {
   "cell_type": "code",
   "execution_count": 125,
   "outputs": [],
   "source": [],
   "metadata": {
    "collapsed": false
   }
  }
 ],
 "metadata": {
  "kernelspec": {
   "display_name": "Python 3",
   "language": "python",
   "name": "python3"
  },
  "language_info": {
   "codemirror_mode": {
    "name": "ipython",
    "version": 2
   },
   "file_extension": ".py",
   "mimetype": "text/x-python",
   "name": "python",
   "nbconvert_exporter": "python",
   "pygments_lexer": "ipython2",
   "version": "2.7.6"
  }
 },
 "nbformat": 4,
 "nbformat_minor": 0
}
